{
 "cells": [
  {
   "cell_type": "markdown",
   "id": "78aae0f9-37da-4328-a978-3cb688c50af0",
   "metadata": {},
   "source": [
    "## INSERT CODE HERE"
   ]
  },
  {
   "cell_type": "code",
   "execution_count": 6,
   "id": "8afb3866-6b9d-4428-b21f-f3c4ba3f5a67",
   "metadata": {},
   "outputs": [
    {
     "name": "stdout",
     "output_type": "stream",
     "text": [
      "First 5 teams returned by CFBD API:\n",
      "\n",
      "Abilene Christian (UAC)\n",
      "Adams State (Rocky Mountain)\n",
      "Adrian (None)\n",
      "Adrian (Michigan)\n",
      "Air Force (Mountain West)\n"
     ]
    }
   ],
   "source": [
    "import os\n",
    "import cfbd\n",
    "from cfbd.rest import ApiException\n",
    "from pprint import pprint\n",
    "\n",
    "# --- Step 1: Store your API key (you can also export it in your terminal instead) ---\n",
    "os.environ[\"BEARER_TOKEN\"] = \"/9JnBU7Fxqt96YKZUGvuoZ/2eFddlclgSjWYU54nGr5VlQVdfdXp9HkYD/XD46+Z\"\n",
    "\n",
    "# --- Step 2: Configure authentication ---\n",
    "configuration = cfbd.Configuration()\n",
    "configuration.host = \"https://api.collegefootballdata.com\"\n",
    "configuration.access_token = os.environ[\"BEARER_TOKEN\"]\n",
    "\n",
    "# --- Step 3: Create an API client and call a free endpoint ---\n",
    "with cfbd.ApiClient(configuration) as api_client:\n",
    "    # Example: Get a list of all FBS teams\n",
    "    api_instance = cfbd.TeamsApi(api_client)\n",
    "\n",
    "    try:\n",
    "        teams = api_instance.get_teams()\n",
    "        print(\"First 5 teams returned by CFBD API:\\n\")\n",
    "        for t in teams[:5]:\n",
    "            print(f\"{t.school} ({t.conference})\")\n",
    "    except ApiException as e:\n",
    "        print(f\"Exception when calling TeamsApi->get_teams: {e}\")"
   ]
  },
  {
   "cell_type": "code",
   "execution_count": null,
   "id": "c86ec897-c1ec-440c-91d2-1b0c25a5c5e4",
   "metadata": {},
   "outputs": [],
   "source": []
  }
 ],
 "metadata": {
  "kernelspec": {
   "display_name": "Python 3 (ipykernel)",
   "language": "python",
   "name": "python3"
  },
  "language_info": {
   "codemirror_mode": {
    "name": "ipython",
    "version": 3
   },
   "file_extension": ".py",
   "mimetype": "text/x-python",
   "name": "python",
   "nbconvert_exporter": "python",
   "pygments_lexer": "ipython3",
   "version": "3.13.5"
  }
 },
 "nbformat": 4,
 "nbformat_minor": 5
}
